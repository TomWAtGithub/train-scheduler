{
 "cells": [
  {
   "cell_type": "markdown",
   "metadata": {
    "pycharm": {
     "name": "#%% md\n"
    }
   },
   "source": [
    "# Comparing results from output files & updating csv file for comparison\n",
    "\n",
    "To compare different algorithms we need to determine the delay of passengers. To compute the delay we need\n",
    "1. the desired arrival time of the passenger\n",
    "2. and the actual arrival time of the passenger.\n",
    "\n",
    "The delay is then computes as the difference between both, if the passenger arrives later than desired. If a passenger arrives earlier than desired, the delay is defined as 0."
   ]
  },
  {
   "cell_type": "code",
   "execution_count": 1,
   "metadata": {
    "pycharm": {
     "name": "#%%\n"
    }
   },
   "outputs": [],
   "source": [
    "import math\n",
    "import numpy as np\n",
    "import pandas as pd     # for the use of DataFrames\n",
    "import os\n",
    "import csv"
   ]
  },
  {
   "cell_type": "code",
   "execution_count": 2,
   "metadata": {
    "pycharm": {
     "name": "#%%\n"
    }
   },
   "outputs": [],
   "source": [
    "import path\n",
    "\n",
    "def import_input_data(file_path):\n",
    "    \"\"\"\n",
    "    Method to import input-files. This needs to be done to extract the desired arrival time of passengers.\n",
    "    \n",
    "    :param file_path: File path to input file.\n",
    "    :return: 1 DataFrame containing split data from input (passengers)\n",
    "    \"\"\"\n",
    "\n",
    "    f = open(file_path)\n",
    "    list_of_lines = f.readlines()   # reading text from file line-by-line into a list of strings\n",
    "\n",
    "    # Clean up data\n",
    "    data = map(str.rstrip, list_of_lines)   # remove \\n at the end of each string (row/line) in list\n",
    "    df = pd.DataFrame(data, columns = ['data'])   # convert list of strings into DataFrame with column name 'data'\n",
    "    df = df.loc[df['data'] != '']   # remove empty rows\n",
    "    df = df.loc[(df['data'].str.contains('#') == False)]   # remove comment lines/rows (containing #)\n",
    "    df = df.reset_index(drop = True)   # reset indexes in DataFrame to be continuous again after removing rows/lines\n",
    "\n",
    "    # Extract indexes for passengers:\n",
    "    passengers_index = df.index[df['data'] == '[Passengers]'][0]\n",
    "\n",
    "    # Split data into DataFrames\n",
    "    passenger_df = pd.DataFrame(df['data'].loc[passengers_index + 1 : ].str.split(expand = True))\n",
    "    passenger_df.columns = ['ID', 'StartStation', 'Destination', 'GroupSize', 'ExpectedArrival']\n",
    "    passenger_df = passenger_df.reset_index(drop = True)\n",
    "    passenger_df['ActualArrival'] = np.nan\n",
    "\n",
    "    f.close()\n",
    "\n",
    "    return passenger_df"
   ]
  },
  {
   "cell_type": "code",
   "execution_count": 3,
   "metadata": {
    "pycharm": {
     "name": "#%%\n"
    }
   },
   "outputs": [],
   "source": [
    "def import_output_data(file_path_output, file_path_input):\n",
    "    \"\"\"\n",
    "    Method to import output-files, i.e. the passenger timetables. \n",
    "    This needs to be done to extract the actual arrival time of passengers.\n",
    "\n",
    "    :param file_path_output: File path to output file.\n",
    "    :param file_path_input: File path to input file.\n",
    "    :return: 4 DataFrames containing split data from input (stations, lines, trains, passengers)\n",
    "    \"\"\"\n",
    "    #print(file_path_input, filepath_output)\n",
    "    f = open(file_path_output)\n",
    "    list_of_lines = f.readlines()   # reading text from file line-by-line into a list of strings\n",
    "\n",
    "    # Clean up data\n",
    "    data = map(str.rstrip, list_of_lines)   # remove \\n at the end of each string (row/line) in list\n",
    "    df = pd.DataFrame(data, columns = ['data'])   # convert list of strings into DataFrame with column name 'data'\n",
    "    df = df.loc[df['data'] != '']   # remove empty rows\n",
    "    df = df.loc[(df['data'].str.contains('#') == False)]   # remove comment lines/rows (containing #)\n",
    "    df = df.loc[(df['data'].str.contains('Detrain|Passenger:') != False)]   # remove lines/rows not concerning arriving passengers (containing Detrain)\n",
    "    df = df.reset_index(drop = True)   # reset indexes in DataFrame to be continuous again after removing rows/lines\n",
    "\n",
    "    results[file_path_input][file_path_output] = results[file_path_input]['passengers_input'].copy()\n",
    "    index = 0\n",
    "    current_passenger_id = ''\n",
    "    for element in df['data']:\n",
    "        if element.startswith('['):\n",
    "            splitted_string = element.split(':')\n",
    "            current_passenger_id = splitted_string[1][:-1]\n",
    "        else:\n",
    "            splitted_string = element.split(' ')\n",
    "            value = splitted_string[0]\n",
    "            results[file_path_input][file_path_output].loc[results[file_path_input][file_path_output]['ID'] == current_passenger_id, 'ActualArrival'] = value\n",
    "        index = index + 1\n",
    "\n",
    "    f.close()\n",
    "    return results"
   ]
  },
  {
   "cell_type": "code",
   "execution_count": 4,
   "metadata": {
    "pycharm": {
     "name": "#%%\n"
    }
   },
   "outputs": [],
   "source": [
    "results = dict()"
   ]
  },
  {
   "cell_type": "markdown",
   "metadata": {},
   "source": [
    "# Read input files"
   ]
  },
  {
   "cell_type": "code",
   "execution_count": 5,
   "metadata": {
    "pycharm": {
     "name": "#%%\n"
    }
   },
   "outputs": [
    {
     "name": "stdout",
     "output_type": "stream",
     "text": [
      "Input Files:\n",
      "\n",
      "capacity_input.txt\n",
      "custom_min_11_10-8_12_20_30_4-31_5_10_4-15_20_input.txt\n",
      "custom_min_165_10-62_12_20_30_31-8978_5_10_4-633_20_input.txt\n",
      "custom_min_19_10-12_12_20_30_6-97_5_10_4-32_20_input.txt\n",
      "custom_min_281_10-93_12_20_30_47-27832_5_10_4-1330_20_input.txt\n",
      "custom_min_33_10-18_12_20_30_9-301_5_10_4-68_20_input.txt\n",
      "custom_min_57_10-27_12_20_30_14-934_5_10_4-143_20_input.txt\n",
      "custom_min_6_10-5_12_20_30_3-10_5_10_4-7_20_input.txt\n",
      "custom_min_97_10-41_12_20_30_21-2896_5_10_4-301_20_input.txt\n",
      "get_delay_input.txt\n",
      "large_input.txt\n",
      "simple_0_input.txt\n",
      "simple_1_input.txt\n",
      "simple_2_input.txt\n",
      "simple_input.txt\n",
      "station_capacity_input.txt\n",
      "test-input-1_2_input.txt\n",
      "test-input-1_input.txt\n",
      "testLineForthBack_1_input.txt\n",
      "testLineForthBack_2_input.txt\n",
      "test_100_passengers_input.txt\n",
      "test_10_input.txt\n",
      "test_11_input.txt\n",
      "test_1_input.txt\n",
      "test_2_input.txt\n",
      "test_3_input.txt\n",
      "test_40_input.txt\n",
      "test_40_passengers_input.txt\n",
      "test_4_input.txt\n",
      "test_5_input.txt\n",
      "test_6_input.txt\n",
      "test_7_input.txt\n",
      "test_8_input.txt\n",
      "test_9_input.txt\n",
      "test_calling_trains_input.txt\n",
      "test_capacity_input.txt\n",
      "test_clearing_stations_input.txt\n",
      "test_complex_input.txt\n",
      "test_complex_second_input.txt\n",
      "test_every_input.txt\n",
      "test_float_input.txt\n",
      "test_forthback_input.txt\n",
      "test_full_input.txt\n",
      "test_f_input.txt\n",
      "test_f_second_input.txt\n",
      "test_group2_input.txt\n",
      "test_group_input.txt\n",
      "test_huge_capacities_input.txt\n",
      "test_important_2_input.txt\n",
      "test_important_4_input.txt\n",
      "test_important_max_size_input.txt\n",
      "test_input_official_input.txt\n",
      "test_large_input.txt\n",
      "test_more_capacities_input.txt\n",
      "test_more_capacities_second_input.txt\n",
      "test_only_every_input.txt\n",
      "test_other_input.txt\n",
      "test_Random27_input.txt\n",
      "test_relevant_input.txt\n",
      "test_relevant_second_input.txt\n",
      "test_replace_input.txt\n",
      "test_replace_second_input.txt\n",
      "test_small_input.txt\n",
      "test_station_capacity_input.txt\n",
      "test_very_important_input.txt\n",
      "test_very_important_second_input.txt\n",
      "unusedWildcardTrain_input.txt\n"
     ]
    }
   ],
   "source": [
    "print('Input Files:\\n')\n",
    "\n",
    "# Get all file names of files in the Input directory\n",
    "filenames_input = (\n",
    "    file for file in os.listdir('Input')\n",
    "         if os.path.isfile(os.path.join('Input', file))\n",
    ")\n",
    "\n",
    "# For each input file: read the file, create a DataFrame with the passenger-data and safe that DataFrame in a dictionary.\n",
    "for filename_input in filenames_input:\n",
    "    print(filename_input)\n",
    "    filepath = os.path.join('Input', filename_input)\n",
    "    passengers_input = import_input_data(filepath)\n",
    "    input_dict = dict()\n",
    "    input_dict['passengers_input'] = passengers_input\n",
    "    results[filepath] = input_dict"
   ]
  },
  {
   "cell_type": "markdown",
   "metadata": {},
   "source": [
    "# Read output files"
   ]
  },
  {
   "cell_type": "code",
   "execution_count": 6,
   "metadata": {
    "pycharm": {
     "name": "#%%\n"
    }
   },
   "outputs": [
    {
     "name": "stdout",
     "output_type": "stream",
     "text": [
      "Output\\AMS_Team09_v6\n",
      "Output\\AMS_Team09_v7\n",
      "Output\\FP_Main_v10\n",
      "Output\\FP_Main_v10\\custom_min_215_10-10_12_20_30_8-18426_5_10_4-721_20_output.txt kann nicht verglichen werden, da kein gleichnamiger Input existiert.\n",
      "Output\\FP_Main_v11\n",
      "Output\\FP_Main_v11\\custom_min_138_10-97_12_20_30_49-322_5_10_4-175_20_output.txt kann nicht verglichen werden, da kein gleichnamiger Input existiert.\n",
      "Output\\FP_Main_v11\\custom_min_141_10-42_12_20_30_21-8400_5_10_4-502_20_output.txt kann nicht verglichen werden, da kein gleichnamiger Input existiert.\n",
      "Output\\FP_Main_v11\\custom_min_215_10-10_12_20_30_8-18426_5_10_4-721_20_output.txt kann nicht verglichen werden, da kein gleichnamiger Input existiert.\n",
      "Output\\FP_Main_v11\\custom_min_216_10-89_12_20_30_45-2744_5_10_4-464_20_output.txt kann nicht verglichen werden, da kein gleichnamiger Input existiert.\n",
      "Output\\FP_Main_v11\\custom_min_243_10-68_12_20_30_34-16807_5_10_4-882_20_output.txt kann nicht verglichen werden, da kein gleichnamiger Input existiert.\n",
      "Output\\FP_Main_v11\\custom_min_27_10-15_12_20_30_8-343_5_10_4-61_20_output.txt kann nicht verglichen werden, da kein gleichnamiger Input existiert.\n",
      "Output\\FP_Main_v11\\custom_min_300_10-105_12_20_30_53-19600_5_10_4-1140_20_output.txt kann nicht verglichen werden, da kein gleichnamiger Input existiert.\n",
      "Output\\FP_Main_v11\\custom_min_36_10-21_12_20_30_11-196_5_10_4-61_20_output.txt kann nicht verglichen werden, da kein gleichnamiger Input existiert.\n",
      "Output\\FP_Main_v11\\custom_min_3_10-3_12_20_30_2-7_5_10_4-4_20_output.txt kann nicht verglichen werden, da kein gleichnamiger Input existiert.\n",
      "Output\\FP_Main_v11\\custom_min_6_10-5_12_20_30_3-14_5_10_4-8_20_output.txt kann nicht verglichen werden, da kein gleichnamiger Input existiert.\n",
      "Output\\FP_Main_v11\\custom_min_81_10-32_12_20_30_16-2401_5_10_4-232_20_output.txt kann nicht verglichen werden, da kein gleichnamiger Input existiert.\n",
      "Output\\FP_Main_v11\\custom_min_9_10-7_12_20_30_4-49_5_10_4-16_20_output.txt kann nicht verglichen werden, da kein gleichnamiger Input existiert.\n",
      "Output\\FP_Main_v12\n",
      "Output\\FP_Main_v12\\custom_min_215_10-10_12_20_30_8-18426_5_10_4-721_20_output.txt kann nicht verglichen werden, da kein gleichnamiger Input existiert.\n",
      "Output\\FP_Main_v13\n",
      "Output\\FP_Main_v13\\custom_min_138_10-97_12_20_30_49-322_5_10_4-175_20_output.txt kann nicht verglichen werden, da kein gleichnamiger Input existiert.\n",
      "Output\\FP_Main_v13\\custom_min_141_10-42_12_20_30_21-8400_5_10_4-502_20_output.txt kann nicht verglichen werden, da kein gleichnamiger Input existiert.\n",
      "Output\\FP_Main_v13\\custom_min_215_10-10_12_20_30_8-18426_5_10_4-721_20_output.txt kann nicht verglichen werden, da kein gleichnamiger Input existiert.\n",
      "Output\\FP_Main_v13\\custom_min_216_10-89_12_20_30_45-2744_5_10_4-464_20_output.txt kann nicht verglichen werden, da kein gleichnamiger Input existiert.\n",
      "Output\\FP_Main_v13\\custom_min_243_10-68_12_20_30_34-16807_5_10_4-882_20_output.txt kann nicht verglichen werden, da kein gleichnamiger Input existiert.\n",
      "Output\\FP_Main_v13\\custom_min_27_10-15_12_20_30_8-343_5_10_4-61_20_output.txt kann nicht verglichen werden, da kein gleichnamiger Input existiert.\n",
      "Output\\FP_Main_v13\\custom_min_300_10-105_12_20_30_53-19600_5_10_4-1140_20_output.txt kann nicht verglichen werden, da kein gleichnamiger Input existiert.\n",
      "Output\\FP_Main_v13\\custom_min_36_10-21_12_20_30_11-196_5_10_4-61_20_output.txt kann nicht verglichen werden, da kein gleichnamiger Input existiert.\n",
      "Output\\FP_Main_v13\\custom_min_3_10-3_12_20_30_2-7_5_10_4-4_20_output.txt kann nicht verglichen werden, da kein gleichnamiger Input existiert.\n",
      "Output\\FP_Main_v13\\custom_min_6_10-5_12_20_30_3-14_5_10_4-8_20_output.txt kann nicht verglichen werden, da kein gleichnamiger Input existiert.\n",
      "Output\\FP_Main_v13\\custom_min_81_10-32_12_20_30_16-2401_5_10_4-232_20_output.txt kann nicht verglichen werden, da kein gleichnamiger Input existiert.\n",
      "Output\\FP_Main_v13\\custom_min_9_10-7_12_20_30_4-49_5_10_4-16_20_output.txt kann nicht verglichen werden, da kein gleichnamiger Input existiert.\n",
      "Output\\FP_Main_v14\n",
      "Output\\FP_Main_v15\n",
      "Output\\FP_Main_v16\n",
      "Output\\FP_Main_v8\n",
      "Output\\FP_Main_v8\\custom_min_215_10-10_12_20_30_8-18426_5_10_4-721_20_output.txt kann nicht verglichen werden, da kein gleichnamiger Input existiert.\n",
      "Output\\FP_Main_v8\\custom_min_215_10-37_12_20_29_8-18426_5_10_4-721_20_output.txt kann nicht verglichen werden, da kein gleichnamiger Input existiert.\n",
      "Output\\FP_Main_v8\\custom_min_large_output.txt kann nicht verglichen werden, da kein gleichnamiger Input existiert.\n",
      "Output\\FP_Main_v9\n",
      "Output\\FP_Main_v9\\custom_min_215_10-10_12_20_30_8-18426_5_10_4-721_20_output.txt kann nicht verglichen werden, da kein gleichnamiger Input existiert.\n",
      "Output\\main\n",
      "Output\\Presented Algorithm\n",
      "Output\\Presented Algorithm\\custom_min_138_10-97_12_20_30_49-322_5_10_4-175_20_output.txt kann nicht verglichen werden, da kein gleichnamiger Input existiert.\n",
      "Output\\Presented Algorithm\\custom_min_141_10-42_12_20_30_21-8400_5_10_4-502_20_output.txt kann nicht verglichen werden, da kein gleichnamiger Input existiert.\n",
      "Output\\Presented Algorithm\\custom_min_215_10-10_12_20_30_8-18426_5_10_4-721_20_output.txt kann nicht verglichen werden, da kein gleichnamiger Input existiert.\n",
      "Output\\Presented Algorithm\\custom_min_216_10-89_12_20_30_45-2744_5_10_4-464_20_output.txt kann nicht verglichen werden, da kein gleichnamiger Input existiert.\n",
      "Output\\Presented Algorithm\\custom_min_243_10-68_12_20_30_34-16807_5_10_4-882_20_output.txt kann nicht verglichen werden, da kein gleichnamiger Input existiert.\n",
      "Output\\Presented Algorithm\\custom_min_27_10-15_12_20_30_8-343_5_10_4-61_20_output.txt kann nicht verglichen werden, da kein gleichnamiger Input existiert.\n",
      "Output\\Presented Algorithm\\custom_min_300_10-105_12_20_30_53-19600_5_10_4-1140_20_output.txt kann nicht verglichen werden, da kein gleichnamiger Input existiert.\n",
      "Output\\Presented Algorithm\\custom_min_36_10-21_12_20_30_11-196_5_10_4-61_20_output.txt kann nicht verglichen werden, da kein gleichnamiger Input existiert.\n",
      "Output\\Presented Algorithm\\custom_min_3_10-3_12_20_30_2-7_5_10_4-4_20_output.txt kann nicht verglichen werden, da kein gleichnamiger Input existiert.\n",
      "Output\\Presented Algorithm\\custom_min_6_10-5_12_20_30_3-14_5_10_4-8_20_output.txt kann nicht verglichen werden, da kein gleichnamiger Input existiert.\n",
      "Output\\Presented Algorithm\\custom_min_81_10-32_12_20_30_16-2401_5_10_4-232_20_output.txt kann nicht verglichen werden, da kein gleichnamiger Input existiert.\n",
      "Output\\Presented Algorithm\\custom_min_9_10-7_12_20_30_4-49_5_10_4-16_20_output.txt kann nicht verglichen werden, da kein gleichnamiger Input existiert.\n",
      "Output\\TeamHeispeed\n",
      "Output\\TeamHeispeed\\custom_min_215_10-10_12_20_30_8-18426_5_10_4-721_20_output.txt kann nicht verglichen werden, da kein gleichnamiger Input existiert.\n",
      "Output\\TeamHeispeed\\custom_min_243_10-68_12_20_30_34-16807_5_10_4-882_20_output.txt kann nicht verglichen werden, da kein gleichnamiger Input existiert.\n",
      "Output\\TeamHeispeed\\custom_min_27_10-15_12_20_30_8-343_5_10_4-61_20_output.txt kann nicht verglichen werden, da kein gleichnamiger Input existiert.\n",
      "Output\\TeamHeispeed\\custom_min_3_10-3_12_20_30_2-7_5_10_4-4_20_output.txt kann nicht verglichen werden, da kein gleichnamiger Input existiert.\n",
      "Output\\TeamHeispeed\\custom_min_81_10-32_12_20_30_16-2401_5_10_4-232_20_output.txt kann nicht verglichen werden, da kein gleichnamiger Input existiert.\n",
      "Output\\TeamHeispeed\\custom_min_9_10-7_12_20_30_4-49_5_10_4-16_20_output.txt kann nicht verglichen werden, da kein gleichnamiger Input existiert.\n",
      "Output\\TeamOffByOne\n",
      "Output\\TeamOffByOne\\custom_min_215_10-10_12_20_30_8-18426_5_10_4-721_20_output.txt kann nicht verglichen werden, da kein gleichnamiger Input existiert.\n",
      "Output\\TeamOffByOne\\custom_min_243_10-68_12_20_30_34-16807_5_10_4-882_20_output.txt kann nicht verglichen werden, da kein gleichnamiger Input existiert.\n",
      "Output\\TeamOffByOne\\custom_min_27_10-15_12_20_30_8-343_5_10_4-61_20_output.txt kann nicht verglichen werden, da kein gleichnamiger Input existiert.\n",
      "Output\\TeamOffByOne\\custom_min_3_10-3_12_20_30_2-7_5_10_4-4_20_output.txt kann nicht verglichen werden, da kein gleichnamiger Input existiert.\n",
      "Output\\TeamOffByOne\\custom_min_81_10-32_12_20_30_16-2401_5_10_4-232_20_output.txt kann nicht verglichen werden, da kein gleichnamiger Input existiert.\n",
      "Output\\TeamOffByOne\\custom_min_9_10-7_12_20_30_4-49_5_10_4-16_20_output.txt kann nicht verglichen werden, da kein gleichnamiger Input existiert.\n",
      "Output\\TeamZuegigZumErfolg\n",
      "Output\\TeamZuegigZumErfolg\\custom_min_215_10-10_12_20_30_8-18426_5_10_4-721_20_output.txt kann nicht verglichen werden, da kein gleichnamiger Input existiert.\n",
      "Output\\TeamZuegigZumErfolg\\custom_min_215_10-37_12_20_29_8-18426_5_10_4-721_20_output.txt kann nicht verglichen werden, da kein gleichnamiger Input existiert.\n",
      "Output\\TeamZuegigZumErfolg\\custom_min_243_10-68_12_20_30_34-16807_5_10_4-882_20_output.txt kann nicht verglichen werden, da kein gleichnamiger Input existiert.\n",
      "Output\\TeamZuegigZumErfolg\\custom_min_27_10-15_12_20_30_8-343_5_10_4-61_20_output.txt kann nicht verglichen werden, da kein gleichnamiger Input existiert.\n",
      "Output\\TeamZuegigZumErfolg\\custom_min_3_10-3_12_20_30_2-7_5_10_4-4_20_output.txt kann nicht verglichen werden, da kein gleichnamiger Input existiert.\n",
      "Output\\TeamZuegigZumErfolg\\custom_min_81_10-32_12_20_30_16-2401_5_10_4-232_20_output.txt kann nicht verglichen werden, da kein gleichnamiger Input existiert.\n",
      "Output\\TeamZuegigZumErfolg\\custom_min_9_10-7_12_20_30_4-49_5_10_4-16_20_output.txt kann nicht verglichen werden, da kein gleichnamiger Input existiert.\n",
      "Output\\TeamZuegigZumErfolg\\test_trash_output.txt kann nicht verglichen werden, da kein gleichnamiger Input existiert.\n"
     ]
    }
   ],
   "source": [
    "# get the name/path of all output files (timetables)\n",
    "files_and_folders_output = os.listdir('Output')\n",
    "files_and_folders_output.remove('old')\n",
    "folderpaths_output = (\n",
    "    os.path.join('Output', folder) for folder in files_and_folders_output\n",
    "         if os.path.isfile(os.path.join('Output', folder)) == False\n",
    ")\n",
    "\n",
    "for folderpath_output in folderpaths_output:\n",
    "    print(folderpath_output)\n",
    "    filenames_output = (\n",
    "        file for file in os.listdir(folderpath_output)\n",
    "             if os.path.isfile(os.path.join(folderpath_output, file))\n",
    "    )\n",
    "    for filename in filenames_output:\n",
    "        if filename == 'test_output.txt':\n",
    "            # test_output.txt does not meet the standardized output structure\n",
    "            continue \n",
    "        filepath_input = os.path.join('Input', filename.replace('output', 'input'))\n",
    "        filepath_output = os.path.join(folderpath_output, filename)\n",
    "        if os.path.exists(filepath_input):\n",
    "            import_output_data(filepath_output, filepath_input)\n",
    "        else:\n",
    "            print(filepath_output, 'can not be compared, because there is no input with the same name.')"
   ]
  },
  {
   "cell_type": "markdown",
   "metadata": {},
   "source": [
    "# Calculate delay and log it into csv file for comparison"
   ]
  },
  {
   "cell_type": "code",
   "execution_count": 7,
   "metadata": {
    "pycharm": {
     "name": "#%%\n"
    }
   },
   "outputs": [
    {
     "name": "stdout",
     "output_type": "stream",
     "text": [
      "Input\\capacity_input.txt :\t Total Delay: 0 \tTotal weighted Delay: 0 \tFinished in Round: 3\n",
      "Input\\custom_min_11_10-8_12_20_30_4-31_5_10_4-15_20_input.txt :\t Total Delay: 50 \tTotal weighted Delay: 468 \tFinished in Round: 12\n",
      "Input\\custom_min_165_10-62_12_20_30_31-8978_5_10_4-633_20_input.txt :\t Total Delay: 21028 \tTotal weighted Delay: 224964 \tFinished in Round: 83\n",
      "Input\\custom_min_19_10-12_12_20_30_6-97_5_10_4-32_20_input.txt :\t Total Delay: 190 \tTotal weighted Delay: 2116 \tFinished in Round: 15\n",
      "Input\\custom_min_281_10-93_12_20_30_47-27832_5_10_4-1330_20_input.txt :\t Total Delay: 67302 \tTotal weighted Delay: 708056 \tFinished in Round: 127\n",
      "Input\\custom_min_33_10-18_12_20_30_9-301_5_10_4-68_20_input.txt :\t Total Delay: 662 \tTotal weighted Delay: 6445 \tFinished in Round: 28\n",
      "Input\\custom_min_57_10-27_12_20_30_14-934_5_10_4-143_20_input.txt :\t Total Delay: 1874 \tTotal weighted Delay: 20295 \tFinished in Round: 32\n",
      "Input\\custom_min_6_10-5_12_20_30_3-10_5_10_4-7_20_input.txt :\t Total Delay: 28 \tTotal weighted Delay: 267 \tFinished in Round: 7\n",
      "Input\\custom_min_97_10-41_12_20_30_21-2896_5_10_4-301_20_input.txt :\t Total Delay: 6524 \tTotal weighted Delay: 67115 \tFinished in Round: 52\n",
      "Input\\get_delay_input.txt :\t Total Delay: 3 \tTotal weighted Delay: 300 \tFinished in Round: 4\n",
      "Input\\large_input.txt :\t Total Delay: 0 \tTotal weighted Delay: 0 \tFinished in Round: 145\n",
      "Input\\simple_0_input.txt :\t Total Delay: 0 \tTotal weighted Delay: 0 \tFinished in Round: 3\n",
      "Input\\simple_1_input.txt :\t Total Delay: 0 \tTotal weighted Delay: 0 \tFinished in Round: 4\n",
      "Input\\simple_2_input.txt :\t Total Delay: 0 \tTotal weighted Delay: 0 \tFinished in Round: 3\n",
      "Input\\simple_input.txt :\t Total Delay: 3 \tTotal weighted Delay: 30 \tFinished in Round: 7\n",
      "Input\\station_capacity_input.txt :\t Total Delay: 0 \tTotal weighted Delay: 0 \tFinished in Round: 4\n",
      "Input\\test-input-1_2_input.txt :\t Total Delay: 0 \tTotal weighted Delay: 0 \tFinished in Round: 3\n",
      "Input\\test-input-1_input.txt :\t Total Delay: 0 \tTotal weighted Delay: 0 \tFinished in Round: 11\n",
      "Input\\testLineForthBack_1_input.txt :\t Total Delay: 0 \tTotal weighted Delay: 0 \tFinished in Round: 10\n",
      "Input\\testLineForthBack_2_input.txt :\t Total Delay: 0 \tTotal weighted Delay: 0 \tFinished in Round: 10\n",
      "Input\\test_100_passengers_input.txt :\t Total Delay: 53 \tTotal weighted Delay: 109 \tFinished in Round: 122\n",
      "Input\\test_10_input.txt :\t Total Delay: 3 \tTotal weighted Delay: 150 \tFinished in Round: 13\n",
      "Input\\test_11_input.txt :\t Total Delay: 19 \tTotal weighted Delay: 950 \tFinished in Round: 17\n",
      "Input\\test_1_input.txt :\t Total Delay: 0 \tTotal weighted Delay: 0 \tFinished in Round: 4\n",
      "Input\\test_2_input.txt :\t Total Delay: 0 \tTotal weighted Delay: 0 \tFinished in Round: 4\n",
      "Input\\test_3_input.txt :\t Total Delay: 0 \tTotal weighted Delay: 0 \tFinished in Round: 4\n",
      "Input\\test_40_input.txt :\t Total Delay: 0 \tTotal weighted Delay: 0 \tFinished in Round: 25\n",
      "Input\\test_40_passengers_input.txt :\t Total Delay: 653 \tTotal weighted Delay: 1274 \tFinished in Round: 198\n",
      "Input\\test_4_input.txt :\t Total Delay: 4 \tTotal weighted Delay: 200 \tFinished in Round: 8\n",
      "Input\\test_5_input.txt :\t Total Delay: 9 \tTotal weighted Delay: 450 \tFinished in Round: 13\n",
      "Input\\test_6_input.txt :\t Total Delay: 1 \tTotal weighted Delay: 50 \tFinished in Round: 5\n",
      "Input\\test_7_input.txt :\t Total Delay: 0 \tTotal weighted Delay: 0 \tFinished in Round: 4\n",
      "Input\\test_8_input.txt :\t Total Delay: 9 \tTotal weighted Delay: 450 \tFinished in Round: 10\n",
      "Input\\test_9_input.txt :\t Total Delay: 0 \tTotal weighted Delay: 0 \tFinished in Round: 7\n",
      "Input\\test_calling_trains_input.txt :\t Total Delay: 0 \tTotal weighted Delay: 0 \tFinished in Round: 10\n",
      "Input\\test_capacity_input.txt :\t Total Delay: 0 \tTotal weighted Delay: 0 \tFinished in Round: 3\n",
      "Input\\test_clearing_stations_input.txt :\t Total Delay: 0 \tTotal weighted Delay: 0 \tFinished in Round: 25\n",
      "Input\\test_complex_input.txt :\t Total Delay: 10 \tTotal weighted Delay: 24 \tFinished in Round: 5\n",
      "Input\\test_complex_second_input.txt :\t Total Delay: 0 \tTotal weighted Delay: 0 \tFinished in Round: 15\n",
      "Input\\test_every_input.txt :\t Total Delay: 0 \tTotal weighted Delay: 0 \tFinished in Round: 4\n",
      "Input\\test_float_input.txt :\t Total Delay: 0 \tTotal weighted Delay: 0 \tFinished in Round: 6\n",
      "Input\\test_forthback_input.txt :\t Total Delay: 0 \tTotal weighted Delay: 0 \tFinished in Round: 10\n",
      "Input\\test_full_input.txt :\t Total Delay: 3 \tTotal weighted Delay: 150 \tFinished in Round: 7\n",
      "Input\\test_f_input.txt :\t Total Delay: 0 \tTotal weighted Delay: 0 \tFinished in Round: 25\n",
      "Input\\test_f_second_input.txt :\t Total Delay: 0 \tTotal weighted Delay: 0 \tFinished in Round: 3\n",
      "Input\\test_group2_input.txt :\t Total Delay: 2 \tTotal weighted Delay: 16 \tFinished in Round: 16\n",
      "Input\\test_group_input.txt :\t Total Delay: 0 \tTotal weighted Delay: 0 \tFinished in Round: 22\n",
      "Input\\test_huge_capacities_input.txt :\t Total Delay: 0 \tTotal weighted Delay: 0 \tFinished in Round: 4\n",
      "Input\\test_important_2_input.txt :\t Total Delay: 294 \tTotal weighted Delay: 2332 \tFinished in Round: 77\n",
      "Input\\test_important_4_input.txt :\t Total Delay: 86 \tTotal weighted Delay: 168 \tFinished in Round: 22\n",
      "Input\\test_important_max_size_input.txt :\t Total Delay: 166 \tTotal weighted Delay: 1025 \tFinished in Round: 46\n",
      "Input\\test_input_official_input.txt :\t Total Delay: 0 \tTotal weighted Delay: 0 \tFinished in Round: 39\n",
      "Input\\test_large_input.txt :\t Total Delay: 0 \tTotal weighted Delay: 0 \tFinished in Round: 145\n",
      "Input\\test_more_capacities_input.txt :\t Total Delay: 113 \tTotal weighted Delay: 5150 \tFinished in Round: 41\n",
      "Input\\test_more_capacities_second_input.txt :\t Total Delay: 86 \tTotal weighted Delay: 4030 \tFinished in Round: 35\n",
      "Input\\test_only_every_input.txt :\t Total Delay: 0 \tTotal weighted Delay: 0 \tFinished in Round: 4\n",
      "Input\\test_other_input.txt :\t Total Delay: 0 \tTotal weighted Delay: 0 \tFinished in Round: 25\n",
      "Input\\test_Random27_input.txt :\t Total Delay: 294 \tTotal weighted Delay: 2332 \tFinished in Round: 77\n",
      "Input\\test_relevant_input.txt :\t Total Delay: 26 \tTotal weighted Delay: 92 \tFinished in Round: 16\n",
      "Input\\test_relevant_second_input.txt :\t Total Delay: 8 \tTotal weighted Delay: 48 \tFinished in Round: 12\n",
      "Input\\test_replace_input.txt :\t Total Delay: 23 \tTotal weighted Delay: 1380 \tFinished in Round: 27\n",
      "Input\\test_replace_second_input.txt :\t Total Delay: 23 \tTotal weighted Delay: 1380 \tFinished in Round: 27\n",
      "Input\\test_small_input.txt :\t Total Delay: 4 \tTotal weighted Delay: 200 \tFinished in Round: 8\n",
      "Input\\test_station_capacity_input.txt :\t Total Delay: 0 \tTotal weighted Delay: 0 \tFinished in Round: 4\n",
      "Input\\test_very_important_input.txt :\t Total Delay: 877 \tTotal weighted Delay: 2523 \tFinished in Round: 42\n",
      "Input\\test_very_important_second_input.txt :\t Total Delay: 86 \tTotal weighted Delay: 168 \tFinished in Round: 22\n",
      "Input\\unusedWildcardTrain_input.txt :\t Total Delay: 0 \tTotal weighted Delay: 0 \tFinished in Round: 25\n",
      "\n",
      "------------- Done -------------\n"
     ]
    }
   ],
   "source": [
    "# Calculate delay for all inputs and log it into csv file for comparison\n",
    "\n",
    "csv_df = []\n",
    "\n",
    "for key_input in results:\n",
    "    for key_output in results[key_input]:\n",
    "        # skip inputs where we have no valid data (i.e. the actual arrival time is missing)\n",
    "        if key_output == 'passengers_input' \\\n",
    "                or key_output == 'Output\\old\\large_output.txt':\n",
    "            continue\n",
    "        if len(results[key_input][key_output]['ActualArrival'].dropna(inplace=False)) == 0:\n",
    "            continue\n",
    "        skip = False\n",
    "        for i in range(len(results[key_input][key_output]['ActualArrival'])):\n",
    "            if not str(results[key_input][key_output]['ActualArrival'][i]).isnumeric():\n",
    "                skip = True\n",
    "                break\n",
    "        if skip:\n",
    "            continue\n",
    "        \n",
    "        # delay: difference between the actual arrival time and the desired arrival time\n",
    "        results[key_input][key_output]['Delay'] = results[key_input][key_output]['ActualArrival'].astype(int) - results[key_input][key_output]['ExpectedArrival'].astype(int)\n",
    "        # weighted delay: delay multiplied by passengers groupsize\n",
    "        results[key_input][key_output]['WeightedDelay'] =  results[key_input][key_output]['GroupSize'].astype(int) * (results[key_input][key_output]['ActualArrival'].astype(int) - results[key_input][key_output]['ExpectedArrival'].astype(int))\n",
    "        # set delay to 0 if a passenger arrives earlier than desired\n",
    "        results[key_input][key_output].loc[results[key_input][key_output]['WeightedDelay'] < 0, 'WeightedDelay'] = 0\n",
    "        results[key_input][key_output].loc[results[key_input][key_output]['Delay'] < 0, 'Delay'] = 0\n",
    "        \n",
    "        # delay summed over all passengers\n",
    "        total_weighted_delay = sum(results[key_input][key_output]['WeightedDelay'].astype(int))\n",
    "        total_delay = sum(results[key_input][key_output]['Delay'].astype(int))\n",
    "        \n",
    "        rounds = max(results[key_input][key_output]['ActualArrival'].astype(int))\n",
    "        csv_df.append({'Input': os.path.basename(key_input),\n",
    "                       'Algorithm': os.path.basename(os.path.dirname(key_output)),\n",
    "                       'Delay': total_delay,\n",
    "                       'Weighted Delay': total_weighted_delay,\n",
    "                       'Rounds': rounds})\n",
    "\n",
    "    print(key_input, ':\\t', 'Total Delay:', total_delay, '\\tTotal weighted Delay:', total_weighted_delay, '\\tFinished in Round:', rounds)\n",
    "    if len(results[key_input]) == 1:\n",
    "        print()\n",
    "\n",
    "with open('Results.csv', 'w', newline='') as csvfile:\n",
    "    # write results to .csv-file\n",
    "    fieldnames = ['Input', 'Algorithm', 'Delay', 'Weighted Delay', 'Rounds']\n",
    "    writer = csv.DictWriter(csvfile,\n",
    "                            dialect='excel',\n",
    "                            fieldnames=fieldnames)\n",
    "\n",
    "    writer.writeheader()\n",
    "    writer.writerows(csv_df)\n",
    "\n",
    "print('\\n------------- Done -------------')"
   ]
  }
 ],
 "metadata": {
  "hide_input": false,
  "kernelspec": {
   "display_name": "Python 3 (ipykernel)",
   "language": "python",
   "name": "python3"
  },
  "language_info": {
   "codemirror_mode": {
    "name": "ipython",
    "version": 3
   },
   "file_extension": ".py",
   "mimetype": "text/x-python",
   "name": "python",
   "nbconvert_exporter": "python",
   "pygments_lexer": "ipython3",
   "version": "3.11.0"
  },
  "toc": {
   "base_numbering": 1,
   "nav_menu": {},
   "number_sections": true,
   "sideBar": true,
   "skip_h1_title": false,
   "title_cell": "Table of Contents",
   "title_sidebar": "Contents",
   "toc_cell": false,
   "toc_position": {},
   "toc_section_display": true,
   "toc_window_display": false
  },
  "varInspector": {
   "cols": {
    "lenName": 16,
    "lenType": 16,
    "lenVar": 40
   },
   "kernels_config": {
    "python": {
     "delete_cmd_postfix": "",
     "delete_cmd_prefix": "del ",
     "library": "var_list.py",
     "varRefreshCmd": "print(var_dic_list())"
    },
    "r": {
     "delete_cmd_postfix": ") ",
     "delete_cmd_prefix": "rm(",
     "library": "var_list.r",
     "varRefreshCmd": "cat(var_dic_list()) "
    }
   },
   "types_to_exclude": [
    "module",
    "function",
    "builtin_function_or_method",
    "instance",
    "_Feature"
   ],
   "window_display": false
  }
 },
 "nbformat": 4,
 "nbformat_minor": 1
}