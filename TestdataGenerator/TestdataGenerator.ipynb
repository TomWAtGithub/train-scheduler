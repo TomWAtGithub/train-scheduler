{
 "cells": [
  {
   "cell_type": "markdown",
   "id": "1796c498",
   "metadata": {},
   "source": [
    "# Imports & Dijkstra Algorithm"
   ]
  },
  {
   "cell_type": "code",
   "execution_count": null,
   "id": "3f296657",
   "metadata": {},
   "outputs": [],
   "source": [
    "import numpy as np\n",
    "import os\n",
    "from itertools import combinations\n",
    "import random\n",
    "import sys\n",
    "import pandas as pd"
   ]
  },
  {
   "cell_type": "code",
   "execution_count": null,
   "id": "7182ab52",
   "metadata": {},
   "outputs": [],
   "source": [
    "# Class and Functions for Dijkstra-Algorithm\n",
    "\n",
    "class Graph(object):\n",
    "    def __init__(self, nodes, init_graph):\n",
    "        self.__nodes = nodes\n",
    "        self.__graph = self.__construct_graph(nodes, init_graph)\n",
    "\n",
    "    @staticmethod\n",
    "    def __construct_graph(nodes, init_graph):\n",
    "        \"\"\"\n",
    "        This method makes sure that the graph is symmetrical. In other words, if there's a path from node A to B with a value V,\n",
    "        there needs to be a path from node B to node A with a value V.\n",
    "        \"\"\"\n",
    "        graph = {}\n",
    "        for node in nodes:\n",
    "            graph[node] = {}\n",
    "\n",
    "        graph.update(init_graph)\n",
    "\n",
    "        for node, edges in graph.items():\n",
    "            for adjacent_node, value in edges.items():\n",
    "                if not graph[adjacent_node].get(node, False):\n",
    "                    graph[adjacent_node][node] = value\n",
    "\n",
    "        return graph\n",
    "\n",
    "    def get_nodes(self):\n",
    "        \"\"\"Returns the nodes of the graph.\"\"\"\n",
    "        return self.__nodes\n",
    "\n",
    "    def get_outgoing_edges(self, node):\n",
    "        \"\"\"Returns the neighbors of a node.\"\"\"\n",
    "        connections = []\n",
    "        for out_node in self.__nodes:\n",
    "            if self.__graph[node].get(out_node, False):\n",
    "                connections.append(out_node)\n",
    "        return connections\n",
    "\n",
    "    def value(self, node1, node2):\n",
    "        \"\"\"Returns the value of an edge between two nodes.\"\"\"\n",
    "        return self.__graph[node1][node2]\n",
    "\n",
    "def dijkstra_algorithm(graph: Graph, start_node: str):\n",
    "    \"\"\"\n",
    "    Calculates shortest paths with costs in passed graph to each other nodes from the passed start node\n",
    "    \"\"\"\n",
    "    unvisited_nodes = list(graph.get_nodes())\n",
    "\n",
    "    # We'll use this dict to save the cost of visiting each node and update it as we move along the graph\n",
    "    shortest_path = {}\n",
    "\n",
    "    # We'll use this dict to save the shortest known path to a node found so far\n",
    "    previous_nodes = {}\n",
    "\n",
    "    # We'll use max_value to initialize the \"infinity\" value of the unvisited nodes\n",
    "    max_value = sys.maxsize\n",
    "    for node in unvisited_nodes:\n",
    "        shortest_path[node] = max_value\n",
    "    # However, we initialize the starting node's value with 0\n",
    "    shortest_path[start_node] = 0\n",
    "\n",
    "    # The algorithm executes until we visit all nodes\n",
    "    while unvisited_nodes:\n",
    "        # The code block below finds the node with the lowest score\n",
    "        current_min_node = None\n",
    "        for node in unvisited_nodes: # Iterate over the nodes\n",
    "            if current_min_node is None:\n",
    "                current_min_node = node\n",
    "            elif shortest_path[node] < shortest_path[current_min_node]:\n",
    "                current_min_node = node\n",
    "\n",
    "        # The code block below retrieves the current node's neighbors and updates their distances\n",
    "        neighbors = graph.get_outgoing_edges(current_min_node)\n",
    "        for neighbor in neighbors:\n",
    "            tentative_value = shortest_path[current_min_node] + graph.value(current_min_node, neighbor)\n",
    "            if tentative_value < shortest_path[neighbor]:\n",
    "                shortest_path[neighbor] = tentative_value\n",
    "                # We also update the best path to the current node\n",
    "                previous_nodes[neighbor] = current_min_node\n",
    "\n",
    "        # After visiting its neighbors, we mark the node as \"visited\"\n",
    "        unvisited_nodes.remove(current_min_node)\n",
    "\n",
    "    return previous_nodes, shortest_path\n",
    "\n",
    "# For manual testing during development\n",
    "def print_result(previous_nodes, shortest_path, start_node, target_node):\n",
    "    path = []\n",
    "    node = target_node\n",
    "\n",
    "    while node != start_node:\n",
    "        path.append(node)\n",
    "        node = previous_nodes[node]\n",
    "\n",
    "    # Add the start node manually\n",
    "    path.append(start_node)\n",
    "\n",
    "    print(\"Test Output:\")\n",
    "    print(\"We found the following best path with a value of {}.\".format(shortest_path[target_node]))\n",
    "    print(\" -> \".join(reversed(path)))\n",
    "    \n",
    "def get_route(previous_nodes, shortest_path, start_node, target_node):\n",
    "    path = []\n",
    "    node = target_node\n",
    "\n",
    "    while node != start_node:\n",
    "        path.append(node)\n",
    "        node = previous_nodes[node]\n",
    "\n",
    "    # Add the start node manually\n",
    "    path.append(start_node)\n",
    "    return path"
   ]
  },
  {
   "cell_type": "markdown",
   "id": "43590783",
   "metadata": {},
   "source": [
    "# Configuration\n",
    "\n",
    "For each entity stations, trains, lines and passengers a dictionary can be defined that determines the attributes of the instances."
   ]
  },
  {
   "cell_type": "markdown",
   "id": "e7b741bc",
   "metadata": {},
   "source": [
    "## stations configuration\n",
    "\n",
    "- numberOfStations: defines the number of stations in the input-file\n",
    "- stationsMaxTrainCapacity: maximal capacity of trains in a station. A station gets a random capacity of trains between 1 and that value"
   ]
  },
  {
   "cell_type": "code",
   "execution_count": null,
   "id": "b6c9631a",
   "metadata": {},
   "outputs": [],
   "source": [
    "stationsConfig = {\n",
    "    'numberOfStations': 215,\n",
    "    'stationsMaxTrainCapacity': 10 \n",
    "}"
   ]
  },
  {
   "cell_type": "markdown",
   "id": "866a652a",
   "metadata": {},
   "source": [
    "## trains configuration\n",
    "\n",
    "- numberOfTrains: defines the number of trains in the input-file\n",
    "- minSpeed: defines the minimal velocity of a train\n",
    "- maxSpeed: defines the maximal velocity of a train\n",
    "- minCapacityOfPassengers: defines the minimal number of passengers that can board on a train\n",
    "- maxCapacityOfPassengers: defines the maximal number of passengers that can board on a train\n",
    "- numberOfTrainsWith*: defines the number of trains with an arbitrary starting position"
   ]
  },
  {
   "cell_type": "code",
   "execution_count": null,
   "id": "713cf232",
   "metadata": {},
   "outputs": [],
   "source": [
    "trainsConfig = {\n",
    "    'numberOfTrains': 10,\n",
    "    'maxSpeed': 12,\n",
    "    'minSpeed': 4,\n",
    "    'minCapacityOfPassengers': 20,\n",
    "    'maxCapacityOfPassengers': 30,\n",
    "    'numberOfTrainsWith*': 8\n",
    "}"
   ]
  },
  {
   "cell_type": "markdown",
   "id": "16c897ae",
   "metadata": {},
   "source": [
    "## lines configuration\n",
    "\n",
    "- numberOfLines: numberOfLines in the input-file. Has to be smaller than the maximal possible value (see below)\n",
    "- minLength: minimal possible length of a line\n",
    "- maxLength: maximal possible length of a line\n",
    "- maxCapacity: maximal number of trains on a line"
   ]
  },
  {
   "cell_type": "code",
   "execution_count": null,
   "id": "b4c13f07",
   "metadata": {},
   "outputs": [],
   "source": [
    "#maximal possible number of lines when every station is directly connected to every other station:\n",
    "print('Maximal possible number of lines is:', np.sum([i for i in range(stationsConfig['numberOfStations'])]))"
   ]
  },
  {
   "cell_type": "code",
   "execution_count": null,
   "id": "7c4c5dbd",
   "metadata": {},
   "outputs": [],
   "source": [
    "linesConfig = {\n",
    "    'numberOfLines': 18426,\n",
    "    'minLength': 5,\n",
    "    'maxLength': 10,\n",
    "    'maxCapacity': 4\n",
    "}\n",
    "\n",
    "if linesConfig['numberOfLines'] > np.sum([i for i in range(stationsConfig['numberOfStations'])]):\n",
    "    raise Exception('numberOfLines is larger than the maximal possible number of lines given the current number of stations.')"
   ]
  },
  {
   "cell_type": "markdown",
   "id": "d1cbd807",
   "metadata": {},
   "source": [
    "## passengers configuration\n",
    "\n",
    "- numberOfPassengers: defines the number of passengers in the input-file\n",
    "- maxGroupsize: defines the maximal size of a group of passengers. MUST NOT BE LARGER THAN THE MAX TRAINS CAPACITY!\n",
    "- arrivalTime:\n",
    " - minimal: minimal cost from start station to end station without considering train speed\n",
    " - minimal_with_train_speed: minimal cost from start station to end station with considerung train speed. Takes the fastest train in the start station. If there is on train in the start station the fastest train with * as start station will be used"
   ]
  },
  {
   "cell_type": "code",
   "execution_count": null,
   "id": "9d4d6898",
   "metadata": {},
   "outputs": [],
   "source": [
    "print('Largest possible groupsize is', trainsConfig['maxCapacityOfPassengers'])"
   ]
  },
  {
   "cell_type": "code",
   "execution_count": null,
   "id": "c558aaec",
   "metadata": {},
   "outputs": [],
   "source": [
    "passengersConfig = {\n",
    "    'numberOfPassengers': 721,\n",
    "    'maxGroupsize': 20,\n",
    "    #'arrivalTime': 'minimal',\n",
    "    #'arrivalTime': 'random',\n",
    "    'arrivalTime': 'minimal_with_train_speed',\n",
    "}"
   ]
  },
  {
   "cell_type": "markdown",
   "id": "951512a4",
   "metadata": {},
   "source": [
    "## general configuration"
   ]
  },
  {
   "cell_type": "code",
   "execution_count": null,
   "id": "3a92f576",
   "metadata": {},
   "outputs": [],
   "source": [
    "generalConfig = {\n",
    "    'includeConfigString': False,\n",
    "    #'filename': 'custom_large_input.txt',\n",
    "}"
   ]
  },
  {
   "cell_type": "markdown",
   "id": "68d8eef8",
   "metadata": {},
   "source": [
    "# Create data"
   ]
  },
  {
   "cell_type": "markdown",
   "id": "6a30dc9f",
   "metadata": {},
   "source": [
    "## create stations"
   ]
  },
  {
   "cell_type": "code",
   "execution_count": null,
   "id": "dc32dce7",
   "metadata": {},
   "outputs": [],
   "source": [
    "# building the string according to the standardized input-format\n",
    "stationsString = '#Stations: ID, capacity\\n'\n",
    "stationsString += '[Stations]\\n'\n",
    "\n",
    "# creating the station-IDs and selecting a random capacity for each station \n",
    "for i in range(stationsConfig['numberOfStations']):\n",
    "    singleStationString = 'S' + str(i + 1) + ' ' + str(np.random.randint(stationsConfig['stationsMaxTrainCapacity']) + 1) + '\\n'\n",
    "    stationsString += singleStationString\n",
    "\n",
    "stationsString += '\\n' "
   ]
  },
  {
   "cell_type": "code",
   "execution_count": null,
   "id": "3ab27994",
   "metadata": {},
   "outputs": [],
   "source": [
    "#print(stationsString)"
   ]
  },
  {
   "cell_type": "markdown",
   "id": "699f5add",
   "metadata": {},
   "source": [
    "## create trains"
   ]
  },
  {
   "cell_type": "code",
   "execution_count": null,
   "id": "f650e190",
   "metadata": {},
   "outputs": [],
   "source": [
    "def get_all_stations():\n",
    "    \"\"\"\n",
    "    returns a list of the IDs of all stations\n",
    "    \"\"\"\n",
    "    stations = stationsString.split('\\n')\n",
    "    stations.remove('[Stations]')\n",
    "    while '' in stations: \n",
    "        stations.remove('')\n",
    "    stations.remove('#Stations: ID, capacity')\n",
    "\n",
    "    for elem in stations:\n",
    "        station = elem.split(' ')\n",
    "        stations[stations.index(elem)] = station\n",
    "\n",
    "    return stations"
   ]
  },
  {
   "cell_type": "code",
   "execution_count": null,
   "id": "0ca12b10",
   "metadata": {},
   "outputs": [],
   "source": [
    "# building the string according to the standardized input-format\n",
    "trainsString = '#Trains: ID, start station, velocity, capacity\\n'\n",
    "trainsString += '[Trains]\\n'\n",
    "\n",
    "# getting all stations, used to select a random starting and end station for each train out of this pool\n",
    "stations = get_all_stations()\n",
    "stations = pd.DataFrame(stations, columns=['name', 'capacity'])\n",
    "stations.set_index('name', inplace=True)\n",
    "stations = stations.astype('int32')\n",
    "stations['trains_in_station'] = np.zeros(stations.size, dtype=int)\n",
    "\n",
    "for i in range(trainsConfig['numberOfTrains']):\n",
    "    # select starting station for each train\n",
    "    if i < trainsConfig['numberOfTrainsWith*']:\n",
    "        # assign an arbitrary starting station ('*') to the current train\n",
    "        startingStation = '*'\n",
    "    else:\n",
    "        # find a station that can accomodate the current train\n",
    "        find_station = True\n",
    "        while find_station:\n",
    "            temp_starting_station = 'S' + str(np.random.randint(stationsConfig['numberOfStations']) + 1)\n",
    "            if stations.loc[temp_starting_station]['trains_in_station'] < stations.loc[temp_starting_station]['capacity']:\n",
    "                startingStation = temp_starting_station\n",
    "                stations.loc[startingStation]['trains_in_station'] += 1\n",
    "                find_station = False\n",
    "\n",
    "    # select speed of train\n",
    "    speed = str(round(random.uniform(trainsConfig['minSpeed'], trainsConfig['maxSpeed']), 5))\n",
    "\n",
    "    # select capacity of passengers in train\n",
    "    capacity = str(np.random.randint(trainsConfig['minCapacityOfPassengers'], trainsConfig['maxCapacityOfPassengers'] + 1))\n",
    "    \n",
    "    # select the train id and combine all selected attributes in one string\n",
    "    singleTrainString = 'T' + str(i + 1) + ' ' + startingStation + ' ' + speed + ' ' +  capacity + '\\n'\n",
    "    trainsString += singleTrainString\n",
    "\n",
    "trainsString += '\\n'"
   ]
  },
  {
   "cell_type": "code",
   "execution_count": null,
   "id": "4b0ba2ad",
   "metadata": {},
   "outputs": [],
   "source": [
    "#print(trainsString)"
   ]
  },
  {
   "cell_type": "markdown",
   "id": "c407c94b",
   "metadata": {},
   "source": [
    "## create lines"
   ]
  },
  {
   "cell_type": "code",
   "execution_count": null,
   "id": "fcff613d",
   "metadata": {},
   "outputs": [],
   "source": [
    "def createAllLines():\n",
    "    \"\"\"\n",
    "    Creates all possible lines so that every station is directly connected by a line to every other station.\n",
    "    Randomizes the order of the created lines and saves them in the list allPairsList.\n",
    "    \"\"\"\n",
    "    allStations = ['S' + str(i+1) for i in range(stationsConfig['numberOfStations'])]\n",
    "    allPairs = combinations(allStations, 2)\n",
    "    allPairsList = []\n",
    "    for pair in allPairs: \n",
    "        allPairsList.append(list(pair))\n",
    "\n",
    "    #randomize the order of the lines:\n",
    "    random.shuffle(allPairsList)\n",
    "    return allPairsList"
   ]
  },
  {
   "cell_type": "code",
   "execution_count": null,
   "id": "c7907095",
   "metadata": {},
   "outputs": [],
   "source": [
    "def removeLines(printOrder=False):\n",
    "    \"\"\"\n",
    "    Iterate over every line in allPairsList and check whether the removal of that line would result in a disconnected station.\n",
    "    Repeat until the number of lines left is equal to the numberOfLines in linesConfig or until we can not remove another line \n",
    "    without disconnecting the graph. \n",
    "    \"\"\"\n",
    "    allStations = ['S' + str(i+1) for i in range(stationsConfig['numberOfStations'])]\n",
    "    allPairsList = createAllLines()\n",
    "    lines = allPairsList.copy()\n",
    "\n",
    "    for pair in allPairsList:\n",
    "        #check if the number of lines is larger than numberOfLines from linesConfig. If that is not the case stop the algorithm.\n",
    "        if len(lines) <= linesConfig['numberOfLines']:\n",
    "            if printOrder: \n",
    "                print('numberOfLines reached, no more lines will be removed.')\n",
    "            break\n",
    "\n",
    "        tempList = lines.copy()\n",
    "\n",
    "        #create graph with all stations\n",
    "        init_graph = {}\n",
    "        for station in allStations:\n",
    "            init_graph[station] = {}\n",
    "\n",
    "        #remove a line\n",
    "        tempList.remove(pair)\n",
    "\n",
    "        #add all lines except the lines that were removed in the previous and in the current step\n",
    "        for line in tempList:\n",
    "            #initialize all lines with weight 1 (weight is irrelevant for this task)\n",
    "            init_graph[line[0]][line[1]] = 1\n",
    "\n",
    "        graph = Graph(allStations, init_graph)\n",
    "\n",
    "        #check wheter the removal of the line results in a disconnected station\n",
    "        #example: if a line that connects S1 and S2 is removed and results in a disconnected station either S1 or S2 must be\n",
    "        #         disconnected. Thus it is sufficient to check whether S1 or S2 are disconnected.\n",
    "        previousNodesOfFirstStation, shortestPathOfFirstStation = dijkstra_algorithm(graph=graph, start_node=pair[0])\n",
    "        previousNodesOfSecondStation, shortestPathOfSecondStation = dijkstra_algorithm(graph=graph, start_node=pair[1])\n",
    "\n",
    "        #in the Dijkstra algorithm disconnected stations are marked with a distance of sys.maxsize\n",
    "        if sys.maxsize in shortestPathOfFirstStation.values() or sys.maxsize in shortestPathOfSecondStation.values():\n",
    "            #if the removal of the line would result in a disconnected station simply move on without action\n",
    "            if printOrder:\n",
    "                print('The removal of ', pair, 'would result in a disconnected station.')\n",
    "            continue\n",
    "        else:\n",
    "            #remove the line if it does not disconnect a station\n",
    "            if printOrder:\n",
    "                print('The line ', pair, 'can be removed.')\n",
    "            lines.remove(pair)\n",
    "\n",
    "    #sort lines\n",
    "    lines.sort()\n",
    "\n",
    "    if len(lines) > linesConfig['numberOfLines']:\n",
    "        if printOrder:\n",
    "            print('numberOfLines (' + str(linesConfig['numberOfLines'],) + ') from configuration could not be reached. Seemingly the minimum number of lines is ' +str(len(lines)) + '.')\n",
    "    return lines"
   ]
  },
  {
   "cell_type": "code",
   "execution_count": null,
   "id": "1994a3fc",
   "metadata": {},
   "outputs": [],
   "source": [
    "# build string according to standardized input-format\n",
    "linesString = '#Lines: ID, first station, second station, length, capacity\\n'\n",
    "linesString += '[Lines]\\n'\n",
    "lines = removeLines()\n",
    "\n",
    "for i in range(len(lines)):\n",
    "    # select length of line according to configurations\n",
    "    length = round(random.uniform(linesConfig['minLength'], linesConfig['maxLength']), 5)\n",
    "\n",
    "    # select capacity of line according to configurations\n",
    "    capacity = np.random.randint(1, linesConfig['maxCapacity'] + 1)\n",
    "    \n",
    "    # combine line ID and the other attributes in one string\n",
    "    singleLineString = 'L' + str(i + 1) + ' ' + str(lines[i][0]) + ' ' + str(lines[i][1]) + ' ' + str(length) + ' ' + str(capacity) + '\\n'\n",
    "    linesString += singleLineString\n",
    "\n",
    "linesString += '\\n'"
   ]
  },
  {
   "cell_type": "code",
   "execution_count": null,
   "id": "3679a65d",
   "metadata": {},
   "outputs": [],
   "source": [
    "#print(linesString)"
   ]
  },
  {
   "cell_type": "markdown",
   "id": "34f7b37b",
   "metadata": {},
   "source": [
    "## create passengers"
   ]
  },
  {
   "cell_type": "code",
   "execution_count": null,
   "id": "99ae3291",
   "metadata": {},
   "outputs": [],
   "source": [
    "#create graph to determine minimal arrival time\n",
    "allStations = ['S' + str(i+1) for i in range(stationsConfig['numberOfStations'])]\n",
    "init_graph = {}\n",
    "for station in allStations:\n",
    "    init_graph[station] = {}\n",
    "\n",
    "#get all lines\n",
    "lines = linesString.split('\\n')\n",
    "lines.remove('[Lines]')\n",
    "while '' in lines: \n",
    "    lines.remove('')\n",
    "lines.remove('#Lines: ID, first station, second station, length, capacity')\n",
    "\n",
    "#initialize all lines with corresponding start station, end station and length\n",
    "for elem in lines:\n",
    "    line = elem.split(' ')\n",
    "    lines[lines.index(elem)] = line\n",
    "    firstStation = line[1]\n",
    "    secondStation = line[2]\n",
    "    length = float(line[3])\n",
    "    init_graph[firstStation][secondStation] = length\n",
    "\n",
    "#create graph\n",
    "graph = Graph(allStations, init_graph)"
   ]
  },
  {
   "cell_type": "code",
   "execution_count": null,
   "id": "96242ac7",
   "metadata": {},
   "outputs": [],
   "source": [
    "def get_all_trains():\n",
    "    \"\"\"\n",
    "    returns a list of the IDs of all trains\n",
    "    \"\"\"\n",
    "    trains = trainsString.split('\\n')\n",
    "    trains.remove('[Trains]')\n",
    "    while '' in trains: \n",
    "        trains.remove('')\n",
    "    trains.remove('#Trains: ID, start station, velocity, capacity')\n",
    "\n",
    "    for elem in trains:\n",
    "        train = elem.split(' ')\n",
    "        trains[trains.index(elem)] = train\n",
    "\n",
    "    return trains\n",
    "\n",
    "def get_fastest_train_in_station(start_station):\n",
    "    \"\"\"\n",
    "    Returns the fastest available train for start_station.\n",
    "    If there is no train in start_station the fastest train with an arbitrary starting station is returned.\n",
    "    \"\"\"\n",
    "    \n",
    "    #get all trains\n",
    "    trains = get_all_trains()\n",
    "    \n",
    "    #get all trains in start_station\n",
    "    trains_in_station = []\n",
    "    for train in trains:\n",
    "        if start_station in train:\n",
    "            trains_in_station.append(train)\n",
    "        \n",
    "    #get fastest train in start station\n",
    "    for train in trains_in_station:\n",
    "        if train[2] == max([temp_train[2] for temp_train in trains_in_station]):\n",
    "            return train\n",
    "    \n",
    "    #if there is no train in station: get fastest train with * as start station\n",
    "    arbitrary_trains = [train for train in trains if '*' in train]\n",
    "    for arbitrary_train in arbitrary_trains:\n",
    "        if arbitrary_train[2] == max([train[2] for train in arbitrary_trains]):\n",
    "            return arbitrary_train"
   ]
  },
  {
   "cell_type": "code",
   "execution_count": null,
   "id": "254c2239",
   "metadata": {},
   "outputs": [],
   "source": [
    "# build string according to standardized input-format\n",
    "passengersString = '#Passengers: ID, start station, end station, groupsize, expected arrival time\\n'\n",
    "passengersString += '[Passengers]\\n'\n",
    "\n",
    "for i in range(passengersConfig['numberOfPassengers']):\n",
    "    # select random start and end station\n",
    "    tempStations = allStations.copy()\n",
    "    startStation = allStations[np.random.randint(len(allStations))]\n",
    "    tempStations.remove(startStation)\n",
    "    endStation = tempStations[np.random.randint(len(tempStations))]\n",
    "    \n",
    "    # select random group size\n",
    "    groupSize = str(np.random.randint(1, passengersConfig['maxGroupsize'] + 1))\n",
    "    \n",
    "    # select arrival time\n",
    "    if passengersConfig['arrivalTime'] == 'minimal':\n",
    "        # set desired arrival time to total length of route\n",
    "        previousNodes, shortestPath = dijkstra_algorithm(graph=graph, start_node=startStation)\n",
    "        arrivalTime = str(shortestPath[endStation])\n",
    "        \n",
    "    if passengersConfig['arrivalTime'] == 'minimal_with_train_speed':\n",
    "        # set desired arrival time for a passenger p with starting station s and destination d \n",
    "        # to the time it would take the fastest available train to get p from s to d \n",
    "        previousNodes, shortestPath = dijkstra_algorithm(graph=graph, start_node=startStation)\n",
    "        # get cost of lines along route to endStation\n",
    "        route = get_route(previousNodes, shortestPath, startStation, endStation)   #get the route to the passengers endStation\n",
    "        lines_on_route = [[route[i], route[i+1]] for i in range(len(route)-1)]     #get all lines along the route\n",
    "        costs_on_route = []                                                        #get the cost for each line without considering train speed\n",
    "        for line_on_route in lines_on_route:\n",
    "            for line in lines:\n",
    "                if line_on_route[0] in line and line_on_route[1] in line:\n",
    "                    costs_on_route.append(line[3])\n",
    "                    \n",
    "        # get fastest train in current station\n",
    "        fastest_train = get_fastest_train_in_station(startStation)\n",
    "        speed = fastest_train[2]\n",
    "        \n",
    "        # get costs in rounds considering train speed\n",
    "        costs = [int(float(cost)/float(speed))+1 for cost in costs_on_route]\n",
    "        arrivalTime = str(sum(costs))\n",
    "    \n",
    "    # build string for the current passenger\n",
    "    singlePassengerString = 'P' + str(i + 1) + ' ' + startStation + ' ' + endStation + ' ' + groupSize + ' ' + arrivalTime + '\\n'\n",
    "    passengersString += singlePassengerString\n",
    "    \n",
    "passengersString += '\\n' "
   ]
  },
  {
   "cell_type": "markdown",
   "id": "9faa1ac3",
   "metadata": {},
   "source": [
    "# Create output file"
   ]
  },
  {
   "cell_type": "code",
   "execution_count": null,
   "id": "3a1f7483",
   "metadata": {},
   "outputs": [],
   "source": [
    "def createConfigString():\n",
    "    configString = ''\n",
    "\n",
    "    if generalConfig['includeConfigString'] == True:\n",
    "        configString = '#Configurations: \\n'\n",
    "\n",
    "        configString += '\\n#General configurations:\\n'\n",
    "        for key, value in generalConfig.items():\n",
    "            configString += '#' + key + ': ' + str(value) + '\\n'\n",
    "\n",
    "        configString += '\\n#Stations configurations:\\n'\n",
    "        for key, value in stationsConfig.items():\n",
    "            configString += '#' + key + ': ' + str(value) + '\\n'\n",
    "\n",
    "        configString += '\\n#Trains configurations:\\n'\n",
    "        for key, value in trainsConfig.items():\n",
    "            configString += '#' + key + ': ' + str(value) + '\\n'\n",
    "\n",
    "        configString += '\\n#Lines configurations:\\n'\n",
    "        for key, value in linesConfig.items():\n",
    "            configString += '#' + key + ': ' + str(value) + '\\n'\n",
    "            \n",
    "        configString += '\\n#Passengers configurations:\\n'\n",
    "        for key, value in passengersConfig.items():\n",
    "            configString += '#' + key + ': ' + str(value) + '\\n'\n",
    "\n",
    "        configString += '\\n'\n",
    "        return configString"
   ]
  },
  {
   "cell_type": "code",
   "execution_count": null,
   "id": "7f6ea4d0",
   "metadata": {},
   "outputs": [],
   "source": [
    "#print(configString)"
   ]
  },
  {
   "cell_type": "markdown",
   "id": "85d43f93",
   "metadata": {},
   "source": [
    "## Create file"
   ]
  },
  {
   "cell_type": "code",
   "execution_count": null,
   "id": "7e7535de",
   "metadata": {},
   "outputs": [],
   "source": [
    "# include the configuration as comments if this is specified in the config-dictionary\n",
    "if generalConfig['includeConfigString']:\n",
    "    outputString = createConfigString() + stationsString + linesString + trainsString + passengersString\n",
    "else:\n",
    "    outputString = stationsString + linesString + trainsString + passengersString"
   ]
  },
  {
   "cell_type": "code",
   "execution_count": null,
   "id": "21e2e37d",
   "metadata": {},
   "outputs": [],
   "source": [
    "try:\n",
    "    print(generalConfig['filename']) # Throws an error if not set\n",
    "\n",
    "    with open(generalConfig['filename'], 'w') as f:\n",
    "        f.write(outputString)\n",
    "except:\n",
    "    # Automatically create filename from settings in the config-dictionaries\n",
    "    filenames = (\n",
    "        file for file in os.listdir('../Input')\n",
    "            if os.path.isfile(os.path.join('../Input', file))\n",
    "    )\n",
    "    # filename consists of the number of elements plus the specified attributes for each entity\n",
    "    generated_filename = str(stationsConfig['numberOfStations']) \\\n",
    "                         + '_' + str(stationsConfig['stationsMaxTrainCapacity']) \\\n",
    "                         + '-' + str(trainsConfig['numberOfTrains']) \\\n",
    "                         + '_' + str(trainsConfig['maxSpeed']) \\\n",
    "                         + '_' + str(trainsConfig['minCapacityOfPassengers']) \\\n",
    "                         + '_' + str(trainsConfig['maxCapacityOfPassengers']) \\\n",
    "                         + '_' + str(trainsConfig['numberOfTrainsWith*']) \\\n",
    "                         + '-' + str(linesConfig['numberOfLines']) \\\n",
    "                         + '_' + str(linesConfig['minLength']) \\\n",
    "                         + '_' + str(linesConfig['maxLength']) \\\n",
    "                         + '_' + str(linesConfig['maxCapacity']) \\\n",
    "                         + '-' + str(passengersConfig['numberOfPassengers']) \\\n",
    "                         + '_' + str(passengersConfig['maxGroupsize']) \\\n",
    "                         + '_input.txt'\n",
    "    \n",
    "    # add prefix to display selection configuration of passengers desired arrival time\n",
    "    if passengersConfig['arrivalTime'] == 'minimal_with_train_speed':\n",
    "        generated_filename = 'custom_min_' + generated_filename\n",
    "    elif passengersConfig['arrivalTime'] == 'minimal':\n",
    "        generated_filename = 'custom_min_' + generated_filename\n",
    "    else:\n",
    "        generated_filename = 'custom_' + generated_filename\n",
    "\n",
    "    with open(generated_filename, 'w') as f:\n",
    "        f.write(outputString)\n",
    "\n",
    "    print('\\n-------------- DONE --------------')"
   ]
  },
  {
   "cell_type": "code",
   "execution_count": null,
   "id": "96497187",
   "metadata": {},
   "outputs": [],
   "source": []
  }
 ],
 "metadata": {
  "hide_input": false,
  "kernelspec": {
   "display_name": "Python 3 (ipykernel)",
   "language": "python",
   "name": "python3"
  },
  "language_info": {
   "codemirror_mode": {
    "name": "ipython",
    "version": 3
   },
   "file_extension": ".py",
   "mimetype": "text/x-python",
   "name": "python",
   "nbconvert_exporter": "python",
   "pygments_lexer": "ipython3",
   "version": "3.11.0"
  },
  "toc": {
   "base_numbering": 1,
   "nav_menu": {},
   "number_sections": true,
   "sideBar": true,
   "skip_h1_title": false,
   "title_cell": "Table of Contents",
   "title_sidebar": "Contents",
   "toc_cell": false,
   "toc_position": {},
   "toc_section_display": true,
   "toc_window_display": false
  },
  "varInspector": {
   "cols": {
    "lenName": 16,
    "lenType": 16,
    "lenVar": 40
   },
   "kernels_config": {
    "python": {
     "delete_cmd_postfix": "",
     "delete_cmd_prefix": "del ",
     "library": "var_list.py",
     "varRefreshCmd": "print(var_dic_list())"
    },
    "r": {
     "delete_cmd_postfix": ") ",
     "delete_cmd_prefix": "rm(",
     "library": "var_list.r",
     "varRefreshCmd": "cat(var_dic_list()) "
    }
   },
   "oldHeight": 377.51666600000004,
   "position": {
    "height": "40px",
    "left": "1010px",
    "right": "20px",
    "top": "120px",
    "width": "250px"
   },
   "types_to_exclude": [
    "module",
    "function",
    "builtin_function_or_method",
    "instance",
    "_Feature"
   ],
   "varInspector_section_display": "none",
   "window_display": false
  }
 },
 "nbformat": 4,
 "nbformat_minor": 5
}
